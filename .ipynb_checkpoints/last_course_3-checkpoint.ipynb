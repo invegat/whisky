{
 "cells": [
  {
   "cell_type": "code",
   "execution_count": 34,
   "metadata": {
    "ExecuteTime": {
     "end_time": "2020-09-24T22:02:02.213612Z",
     "start_time": "2020-09-24T22:02:02.208760Z"
    }
   },
   "outputs": [],
   "source": [
    "import re\n",
    "import io\n"
   ]
  },
  {
   "cell_type": "code",
   "execution_count": 35,
   "metadata": {
    "ExecuteTime": {
     "end_time": "2020-09-24T22:02:02.595813Z",
     "start_time": "2020-09-24T22:02:02.584490Z"
    }
   },
   "outputs": [
    {
     "name": "stdout",
     "output_type": "stream",
     "text": [
      "15012\n"
     ]
    }
   ],
   "source": [
    "with open('/home/mark/last_course_3.txt', 'rt') as F:\n",
    "  lines = F.readlines()\n",
    "print(len(lines))"
   ]
  },
  {
   "cell_type": "code",
   "execution_count": 36,
   "metadata": {
    "ExecuteTime": {
     "end_time": "2020-09-24T22:02:02.895910Z",
     "start_time": "2020-09-24T22:02:02.855348Z"
    }
   },
   "outputs": [],
   "source": [
    "matches = re.findall(r'\\[([\\s\\d\\.\\-e\\+]+)\\]', ' '.join(lines))"
   ]
  },
  {
   "cell_type": "code",
   "execution_count": 37,
   "metadata": {
    "ExecuteTime": {
     "end_time": "2020-09-24T22:02:03.252226Z",
     "start_time": "2020-09-24T22:02:03.244865Z"
    }
   },
   "outputs": [
    {
     "data": {
      "text/plain": [
       "7"
      ]
     },
     "execution_count": 37,
     "metadata": {},
     "output_type": "execute_result"
    }
   ],
   "source": [
    "len(matches)"
   ]
  },
  {
   "cell_type": "code",
   "execution_count": 38,
   "metadata": {
    "ExecuteTime": {
     "end_time": "2020-09-24T22:02:03.734505Z",
     "start_time": "2020-09-24T22:02:03.727352Z"
    }
   },
   "outputs": [],
   "source": [
    "numbers = matches[3].split(' ')"
   ]
  },
  {
   "cell_type": "code",
   "execution_count": 39,
   "metadata": {
    "ExecuteTime": {
     "end_time": "2020-09-24T22:02:05.314989Z",
     "start_time": "2020-09-24T22:02:05.306962Z"
    }
   },
   "outputs": [
    {
     "data": {
      "text/plain": [
       "26915"
      ]
     },
     "execution_count": 39,
     "metadata": {},
     "output_type": "execute_result"
    }
   ],
   "source": [
    "len(numbers)"
   ]
  },
  {
   "cell_type": "code",
   "execution_count": 40,
   "metadata": {
    "ExecuteTime": {
     "end_time": "2020-09-24T22:02:06.510998Z",
     "start_time": "2020-09-24T22:02:06.492717Z"
    }
   },
   "outputs": [],
   "source": [
    "numbers = [float(n) for n in numbers if len(n) > 3]"
   ]
  },
  {
   "cell_type": "code",
   "execution_count": 41,
   "metadata": {
    "ExecuteTime": {
     "end_time": "2020-09-24T22:02:07.284893Z",
     "start_time": "2020-09-24T22:02:07.276577Z"
    }
   },
   "outputs": [
    {
     "data": {
      "text/plain": [
       "20000"
      ]
     },
     "execution_count": 41,
     "metadata": {},
     "output_type": "execute_result"
    }
   ],
   "source": [
    "len(numbers)"
   ]
  },
  {
   "cell_type": "code",
   "execution_count": 42,
   "metadata": {
    "ExecuteTime": {
     "end_time": "2020-09-24T22:02:09.300839Z",
     "start_time": "2020-09-24T22:02:09.295156Z"
    }
   },
   "outputs": [],
   "source": [
    "high = numbers"
   ]
  },
  {
   "cell_type": "code",
   "execution_count": 43,
   "metadata": {
    "ExecuteTime": {
     "end_time": "2020-09-24T22:02:10.361771Z",
     "start_time": "2020-09-24T22:02:10.339233Z"
    }
   },
   "outputs": [],
   "source": [
    "low = [float(n) for n in matches[4].split(' ') if len(n) > 3]"
   ]
  },
  {
   "cell_type": "code",
   "execution_count": 44,
   "metadata": {
    "ExecuteTime": {
     "end_time": "2020-09-24T22:02:10.990021Z",
     "start_time": "2020-09-24T22:02:10.980238Z"
    }
   },
   "outputs": [
    {
     "data": {
      "text/plain": [
       "20000"
      ]
     },
     "execution_count": 44,
     "metadata": {},
     "output_type": "execute_result"
    }
   ],
   "source": [
    "len(low)"
   ]
  },
  {
   "cell_type": "code",
   "execution_count": 45,
   "metadata": {
    "ExecuteTime": {
     "end_time": "2020-09-24T22:02:19.785071Z",
     "start_time": "2020-09-24T22:02:19.769848Z"
    }
   },
   "outputs": [],
   "source": [
    "my = [float(n) for n in matches[6].split(' ') if len(n) > 3]"
   ]
  },
  {
   "cell_type": "code",
   "execution_count": 46,
   "metadata": {
    "ExecuteTime": {
     "end_time": "2020-09-24T22:02:20.294509Z",
     "start_time": "2020-09-24T22:02:20.285292Z"
    }
   },
   "outputs": [
    {
     "data": {
      "text/plain": [
       "20000"
      ]
     },
     "execution_count": 46,
     "metadata": {},
     "output_type": "execute_result"
    }
   ],
   "source": [
    "len(my)"
   ]
  },
  {
   "cell_type": "code",
   "execution_count": 47,
   "metadata": {
    "ExecuteTime": {
     "end_time": "2020-09-24T22:02:21.365707Z",
     "start_time": "2020-09-24T22:02:21.345473Z"
    }
   },
   "outputs": [
    {
     "name": "stdout",
     "output_type": "stream",
     "text": [
      "18065  high -0.00949704487\t  low -0.01524844\t   my -0.00948353\n",
      "18066  high -0.00947202871\t  low -0.01523323\t   my -0.00942622\n",
      "18067  high -0.00939306862\t  low -0.01529964\t   my -0.00935434\n",
      "18068  high -0.0093802434\t  low -0.01532593\t   my -0.00929332\n",
      "18069  high -0.00942421921\t  low -0.01531362\t   my -0.00924344\n",
      "18070  high -0.00946097171\t  low -0.01546113\t   my -0.00918012\n",
      "18071  high -0.00940760171\t  low -0.0155313\t   my -0.00921261\n"
     ]
    }
   ],
   "source": [
    "for i in range(20000):\n",
    "  if my[i] > high[i] or my[i] < low[i]:\n",
    "    print(f'{i}  high {high[i]}\\t  low {low[i]}\\t   my {my[i]}')"
   ]
  },
  {
   "cell_type": "code",
   "execution_count": 48,
   "metadata": {
    "ExecuteTime": {
     "end_time": "2020-09-25T00:32:09.802221Z",
     "start_time": "2020-09-25T00:32:09.792025Z"
    }
   },
   "outputs": [],
   "source": [
    "my0 = my = [float(n) for n in matches[5].split(' ') if len(n) > 3]"
   ]
  },
  {
   "cell_type": "code",
   "execution_count": 49,
   "metadata": {
    "ExecuteTime": {
     "end_time": "2020-09-25T00:33:32.806584Z",
     "start_time": "2020-09-25T00:33:32.794132Z"
    }
   },
   "outputs": [],
   "source": [
    "for i in range(20000):\n",
    "  if my0[i] != my[i]:\n",
    "    print(f'my0 {my0[i]}  my {my[i]}')"
   ]
  },
  {
   "cell_type": "code",
   "execution_count": null,
   "metadata": {},
   "outputs": [],
   "source": []
  }
 ],
 "metadata": {
  "kernelspec": {
   "display_name": "Python 3",
   "language": "python",
   "name": "python3"
  },
  "language_info": {
   "codemirror_mode": {
    "name": "ipython",
    "version": 3
   },
   "file_extension": ".py",
   "mimetype": "text/x-python",
   "name": "python",
   "nbconvert_exporter": "python",
   "pygments_lexer": "ipython3",
   "version": "3.8.5"
  },
  "latex_envs": {
   "LaTeX_envs_menu_present": true,
   "autoclose": false,
   "autocomplete": true,
   "bibliofile": "biblio.bib",
   "cite_by": "apalike",
   "current_citInitial": 1,
   "eqLabelWithNumbers": true,
   "eqNumInitial": 1,
   "hotkeys": {
    "equation": "Ctrl-E",
    "itemize": "Ctrl-I"
   },
   "labels_anchors": false,
   "latex_user_defs": false,
   "report_style_numbering": false,
   "user_envs_cfg": false
  }
 },
 "nbformat": 4,
 "nbformat_minor": 4
}
